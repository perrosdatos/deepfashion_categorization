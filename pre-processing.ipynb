{
 "cells": [
  {
   "cell_type": "markdown",
   "id": "89ba7dba-b723-48f0-a47c-4a77bba41d86",
   "metadata": {},
   "source": [
    "1 Slowfashion\n",
    "1. Specific Category Recognition (deepest subcategories in our category tree)\n",
    "* Below you’ll find our priority of subcategories to be identified by the\n",
    "tool (not sure how many you estimate the students can cover so I\n",
    "added our top 9):\n",
    "1. Dresses  \n",
    "2. High Heels  \n",
    "3. Shoulder Bags  \n",
    "4. Skirts  \n",
    "5. Tote Bags  \n",
    "6. Clutches  \n",
    "7. Outerwear  \n",
    "8. Boots  \n",
    "9. Flats\n",
    "\n",
    "2 These are all found at the farest end of the group category\n",
    "of “Women” (Women>Clothing>Dresses and for shoes it’s\n",
    "Women>Shoes>High Heels and for bags it’s Women>Bags>Shoulder\n",
    "bags.\n",
    "2. Grouping (Bags & Shoes):\n",
    "• For products in categories that all “look characteristic for its cat-\n",
    "egory” – in our case Bags and Shoes – the AI could identify the\n",
    "group category, say “Bags”, when unsure of it’s a specific subcate-\n",
    "gory (e.g. “Should Bag”)\n",
    "• For example, if the tool cannot with certainty say that the image\n",
    "resemble a Shoulder Bag, but still make out that it is a Bag, it would\n",
    "be very useful to have the AI tool identify that the image is most\n",
    "likely some sort of Bag and give the user a nudge taking them to\n",
    "the category Bags (where the user themselves can choose the correct\n",
    "subcategory under Bags). Same for Shoes.\n",
    "Ideally we as a company could later follow a similar process as the students used\n",
    "and further work on adding additional subcategories.\n",
    "1\n"
   ]
  },
  {
   "cell_type": "markdown",
   "id": "dfc747e5-5f27-439d-9d68-ddc463d33e78",
   "metadata": {},
   "source": [
    "# We Have\n",
    "\n",
    "| Category       | Source                  |\n",
    "|----------------|-------------------------|\n",
    "| Dresses        | DeepFashion             |\n",
    "| High Heels     | Custom Dataset          |\n",
    "| Shoulder Bags  | Handbag Custom Dataset  |\n",
    "| Skirts         | DeepFashion             |\n",
    "| Tote Bags      | Handbag Custom Dataset  |\n",
    "| Clutches       | ❌ Not Available         |\n",
    "| Outerwear      | DeepFashion             |\n",
    "| Boots          | Custom Dataset          |\n",
    "| Flats          | ❌ Not Available         |"
   ]
  },
  {
   "cell_type": "code",
   "execution_count": 1,
   "id": "5de9cba3-b755-431b-ad10-2a60c25c5c95",
   "metadata": {},
   "outputs": [],
   "source": [
    "import pandas as pd\n",
    "pd.set_option('display.max_colwidth', None) "
   ]
  },
  {
   "cell_type": "markdown",
   "id": "1760ee58-c256-474c-a910-1dc2f1b7a6b1",
   "metadata": {},
   "source": [
    "# Global params"
   ]
  },
  {
   "cell_type": "code",
   "execution_count": 2,
   "id": "14edde34-53d4-4186-a251-9b8e4cf5e1ac",
   "metadata": {},
   "outputs": [],
   "source": [
    "accepted_categories = [\"dress\", \"high_heel\", \"handbag\", \"skirt\", \"outerwear\", \"boot\"]\n",
    "label2id = {\n",
    "    \"dress\": 0,\n",
    "    \"high_heel\": 1, \n",
    "    \"handbag\": 2,\n",
    "    \"skirt\": 3, \n",
    "    \"outerwear\": 4, \n",
    "    \"boot\": 5\n",
    "    \n",
    "}\n",
    "id2label = {\n",
    "    0: \"dress\",\n",
    "    1: \"high_heel\", \n",
    "    2: \"handbag\",\n",
    "    3: \"skirt\", \n",
    "    4: \"outerwear\", \n",
    "    5: \"boot\"\n",
    "}\n",
    "\n",
    "RANDOM_STATE = 12345"
   ]
  },
  {
   "cell_type": "markdown",
   "id": "809e241c-7661-4ccf-92d4-83dde23da141",
   "metadata": {},
   "source": [
    "# Loading custom dataset"
   ]
  },
  {
   "cell_type": "code",
   "execution_count": 3,
   "id": "b91c25bd-c5dd-4193-8ad0-433dc93186bd",
   "metadata": {},
   "outputs": [],
   "source": [
    "import pandas as pd\n",
    "import numpy as np\n",
    "def get_dataframe_custom_dataset(cropped=False):\n",
    "    path = None\n",
    "    if cropped:\n",
    "        path = \"../custom_dataset/train/Cropped/information_dataframe.csv\"\n",
    "    else:\n",
    "        path = \"../custom_dataset/train/Labeled/information_dataframe.csv\"\n",
    "        \n",
    "    dataframe = pd.read_csv(path)\n",
    "\n",
    "    mapping_deepfashion = {\n",
    "    \"Boot\": \"boot\",\n",
    "    \"Handbag\": \"handbag\",\n",
    "    \"High heels\": \"high_heel\",\n",
    "    }\n",
    "    \n",
    "    dataframe[\"global_category\"] = dataframe[\"category\"].apply(lambda item: mapping_deepfashion.get(item, item))\n",
    "    dataframe[\"is_valid\"] =  np.where(dataframe[\"global_category\"].isin(accepted_categories),1,0)\n",
    "    dataframe = dataframe.query(\"is_valid == 1\").reset_index()\n",
    "    dataframe[\"label_id\"] = dataframe[\"global_category\"].apply(lambda item: label2id[item])\n",
    "    dataframe[\"path\"] = dataframe[\"path\"].apply(lambda item: path.replace(\"information_dataframe.csv\",\"\")+item)\n",
    "    return dataframe"
   ]
  },
  {
   "cell_type": "code",
   "execution_count": 4,
   "id": "124f9b3f-fd5c-432a-be33-0a7eb9f0d65d",
   "metadata": {},
   "outputs": [],
   "source": [
    "custom_dataframe = get_dataframe_custom_dataset(cropped=False)"
   ]
  },
  {
   "cell_type": "code",
   "execution_count": 5,
   "id": "19bde58b-2b64-4e59-908f-87e0f5f4a0e7",
   "metadata": {},
   "outputs": [
    {
     "data": {
      "text/plain": [
       "global_category\n",
       "boot         500\n",
       "handbag      500\n",
       "high_heel    500\n",
       "dtype: int64"
      ]
     },
     "execution_count": 5,
     "metadata": {},
     "output_type": "execute_result"
    }
   ],
   "source": [
    "custom_dataframe.groupby(\"global_category\").size()"
   ]
  },
  {
   "cell_type": "code",
   "execution_count": 6,
   "id": "5b6352ef-dbf3-48d0-b1af-0753989b935a",
   "metadata": {},
   "outputs": [],
   "source": [
    "from sklearn.model_selection import train_test_split\n",
    "\n",
    "# Stratified split based on 'global_category'\n",
    "t_custom_dataframe, v_custom_dataframe = train_test_split(\n",
    "    custom_dataframe,\n",
    "    test_size=0.2,\n",
    "    stratify=custom_dataframe[\"global_category\"],\n",
    "    random_state=RANDOM_STATE  # for reproducibility\n",
    ")"
   ]
  },
  {
   "cell_type": "code",
   "execution_count": 7,
   "id": "b57b85d3-a1ff-4cd6-8d24-8bd74f2ee4e6",
   "metadata": {},
   "outputs": [
    {
     "data": {
      "text/plain": [
       "global_category\n",
       "boot         400\n",
       "handbag      400\n",
       "high_heel    400\n",
       "dtype: int64"
      ]
     },
     "execution_count": 7,
     "metadata": {},
     "output_type": "execute_result"
    }
   ],
   "source": [
    "\n",
    "t_custom_dataframe.groupby(\"global_category\").size()"
   ]
  },
  {
   "cell_type": "code",
   "execution_count": 8,
   "id": "29bd2758-ca82-4a56-af25-5de73c2438be",
   "metadata": {},
   "outputs": [
    {
     "data": {
      "text/plain": [
       "global_category\n",
       "boot         100\n",
       "handbag      100\n",
       "high_heel    100\n",
       "dtype: int64"
      ]
     },
     "execution_count": 8,
     "metadata": {},
     "output_type": "execute_result"
    }
   ],
   "source": [
    "v_custom_dataframe.groupby(\"global_category\").size()"
   ]
  },
  {
   "cell_type": "markdown",
   "id": "8343d5a2-6188-4b1d-aaef-5f1c21f4f199",
   "metadata": {},
   "source": [
    "# Loading deepfashion data"
   ]
  },
  {
   "cell_type": "code",
   "execution_count": 9,
   "id": "e9e870d9-37da-4863-8d6f-5623fda45bb6",
   "metadata": {},
   "outputs": [],
   "source": [
    "import pandas as pd\n",
    "import numpy as np\n",
    "\n",
    "def remove_images_with_multiple_categories(dataframe):\n",
    "    \n",
    "    duplicates_clothes = dataframe.groupby(\"path\").size().reset_index()\n",
    "    duplicates_clothes.columns = [\"path\", \"count\"]\n",
    "    no_multiple_cases_val = duplicates_clothes[duplicates_clothes[\"count\"] == 1][\"path\"].to_list()\n",
    "    dataframe = dataframe[dataframe[\"path\"].isin(no_multiple_cases_val)]\n",
    "    return dataframe\n",
    "    \n",
    "def get_dataframe_deepfashion(name=\"train\"):\n",
    "    dataframe = pd.read_csv(f\"../archive/DeepFashion2/img_info_dataframes/{name}.csv\")\n",
    "    # Remove images with multiple categories to reduce the dataset and reduce mistakes related with no good classifications\n",
    "    dataframe = remove_images_with_multiple_categories(dataframe)\n",
    "    mapping_deepfashion = {\n",
    "    \"short sleeve dress\": \"dress\",\n",
    "    \"long sleeve dress\": \"dress\",\n",
    "    \"vest dress\": \"dress\",\n",
    "    \"sling dress\": \"dress\",\n",
    "    \"skirt\": \"skirt\",\n",
    "    \"long sleeve outwear\": \"outerwear\",\n",
    "    \"short sleeve outwear\": \"outerwear\",\n",
    "    }\n",
    "    \n",
    "    dataframe[\"global_category\"] = dataframe[\"category_name\"].apply(lambda item: mapping_deepfashion.get(item, item))\n",
    "    dataframe[\"is_valid\"] =  np.where(dataframe[\"global_category\"].isin(accepted_categories),1,0)\n",
    "    dataframe = dataframe.query(\"is_valid == 1\").reset_index()\n",
    "    dataframe[\"label_id\"] = dataframe[\"global_category\"].apply(lambda item: label2id[item])\n",
    "    dataframe[\"path\"] = dataframe[\"path\"].apply(lambda item: item.replace(\"/kaggle/input/deepfashion2-original-with-dataframes\", \"../archive/\"))\n",
    "    return dataframe"
   ]
  },
  {
   "cell_type": "code",
   "execution_count": 10,
   "id": "645d455a-22ee-4ce9-b103-d2e20656b1fc",
   "metadata": {},
   "outputs": [],
   "source": [
    "deepfashion_dataframe = get_dataframe_deepfashion(\"train\")\n",
    "deepfashion_validation_dataframe = get_dataframe_deepfashion(\"validation\")"
   ]
  },
  {
   "cell_type": "code",
   "execution_count": 11,
   "id": "3fea04b5-fe40-48dd-86f8-207ee7da4fae",
   "metadata": {},
   "outputs": [
    {
     "data": {
      "text/plain": [
       "global_category\n",
       "dress        39186\n",
       "outerwear     3713\n",
       "skirt         1921\n",
       "dtype: int64"
      ]
     },
     "execution_count": 11,
     "metadata": {},
     "output_type": "execute_result"
    }
   ],
   "source": [
    "deepfashion_dataframe.groupby(\"global_category\").size()"
   ]
  },
  {
   "cell_type": "code",
   "execution_count": 12,
   "id": "d65a9ebe-1de7-4a4b-a2f0-81f86f551146",
   "metadata": {},
   "outputs": [
    {
     "data": {
      "text/plain": [
       "global_category\n",
       "dress        7172\n",
       "outerwear     499\n",
       "skirt         747\n",
       "dtype: int64"
      ]
     },
     "execution_count": 12,
     "metadata": {},
     "output_type": "execute_result"
    }
   ],
   "source": [
    "deepfashion_validation_dataframe.groupby(\"global_category\").size()"
   ]
  },
  {
   "cell_type": "code",
   "execution_count": 13,
   "id": "43085869-1253-4dd7-98ff-857eea2e270d",
   "metadata": {},
   "outputs": [],
   "source": [
    "full_training_dataframe = pd.concat([\n",
    "    t_custom_dataframe[[\"path\", \"global_category\", \"label_id\"]],\n",
    "    deepfashion_dataframe[[\"path\", \"global_category\", \"label_id\"]]])\n",
    "\n",
    "full_validation_dataframe = pd.concat([\n",
    "    v_custom_dataframe[[\"path\", \"global_category\", \"label_id\"]],\n",
    "    deepfashion_validation_dataframe[[\"path\", \"global_category\", \"label_id\"]]])"
   ]
  },
  {
   "cell_type": "code",
   "execution_count": 14,
   "id": "295cf809-cbda-4d34-8838-0c6a87977e69",
   "metadata": {},
   "outputs": [
    {
     "data": {
      "text/plain": [
       "global_category\n",
       "boot           400\n",
       "dress        39186\n",
       "handbag        400\n",
       "high_heel      400\n",
       "outerwear     3713\n",
       "skirt         1921\n",
       "dtype: int64"
      ]
     },
     "execution_count": 14,
     "metadata": {},
     "output_type": "execute_result"
    }
   ],
   "source": [
    "full_training_dataframe.groupby(\"global_category\").size()"
   ]
  },
  {
   "cell_type": "code",
   "execution_count": 15,
   "id": "246369df-5de6-43a8-81ab-b31bf0d26d54",
   "metadata": {},
   "outputs": [
    {
     "data": {
      "text/plain": [
       "global_category\n",
       "boot          100\n",
       "dress        7172\n",
       "handbag       100\n",
       "high_heel     100\n",
       "outerwear     499\n",
       "skirt         747\n",
       "dtype: int64"
      ]
     },
     "execution_count": 15,
     "metadata": {},
     "output_type": "execute_result"
    }
   ],
   "source": [
    "full_validation_dataframe.groupby(\"global_category\").size()"
   ]
  },
  {
   "cell_type": "code",
   "execution_count": 16,
   "id": "c88ffc76-b3d8-4d61-8457-f5846d30af7f",
   "metadata": {},
   "outputs": [],
   "source": [
    "full_training_dataframe.to_csv(\"conf/train.csv\", index=False)\n",
    "full_validation_dataframe.to_csv(\"conf/validation.csv\", index=False)"
   ]
  },
  {
   "cell_type": "code",
   "execution_count": 17,
   "id": "adc488a9-a898-49af-a57b-daa1811811df",
   "metadata": {},
   "outputs": [
    {
     "data": {
      "text/plain": [
       "2"
      ]
     },
     "execution_count": 17,
     "metadata": {},
     "output_type": "execute_result"
    }
   ],
   "source": [
    "2"
   ]
  },
  {
   "cell_type": "code",
   "execution_count": null,
   "id": "80da1912-d008-4ad6-96b4-82319102d184",
   "metadata": {},
   "outputs": [],
   "source": []
  }
 ],
 "metadata": {
  "kernelspec": {
   "display_name": "Python 3 (ipykernel)",
   "language": "python",
   "name": "python3"
  },
  "language_info": {
   "codemirror_mode": {
    "name": "ipython",
    "version": 3
   },
   "file_extension": ".py",
   "mimetype": "text/x-python",
   "name": "python",
   "nbconvert_exporter": "python",
   "pygments_lexer": "ipython3",
   "version": "3.10.16"
  }
 },
 "nbformat": 4,
 "nbformat_minor": 5
}
