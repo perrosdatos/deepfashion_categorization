{
 "cells": [
  {
   "cell_type": "code",
   "execution_count": 1,
   "id": "79573f04-58d7-445a-a470-a4c1dc2b317f",
   "metadata": {},
   "outputs": [
    {
     "name": "stdout",
     "output_type": "stream",
     "text": [
      "Created 7 files in 'categories' with categorized URLs.\n"
     ]
    }
   ],
   "source": [
    "import os\n",
    "from collections import defaultdict\n",
    "\n",
    "# Input/output paths\n",
    "input_file = r\"C:\\Users\\eduar\\OneDrive\\Documentos\\AI Engineering\\Deep Learning\\Project\\deepfashion_categorization\\slowfashion_dataset\\front_urls.txt\"\n",
    "output_dir = \"categories\"\n",
    "\n",
    "# Keywords to categories\n",
    "CATEGORY_KEYWORDS = {\n",
    "    \"dresses\": \"Dresses\",\n",
    "    \"skirts\": \"Skirts\",\n",
    "    \"boots\": \"Boots\",\n",
    "    \"coat\": \"Outwear\",\n",
    "    \"coats\": \"Outwear\",\n",
    "    \"outerwear\": \"Outwear\",\n",
    "    \"bag\": \"Handbags\",\n",
    "    \"bags\": \"Handbags\",\n",
    "    \"high-heels\": \"High Heels\",\n",
    "    \"high_heels\": \"High Heels\",\n",
    "    \"heels\": \"High Heels\"\n",
    "}\n",
    "\n",
    "def categorize_image(url: str) -> str:\n",
    "    filename = os.path.basename(url).lower()\n",
    "    for keyword, category in CATEGORY_KEYWORDS.items():\n",
    "        if keyword in filename:\n",
    "            return category\n",
    "    return \"Other\"\n",
    "\n",
    "# Read URLs\n",
    "with open(input_file, \"r\") as f:\n",
    "    urls = [line.strip() for line in f if line.strip()]\n",
    "\n",
    "# Categorize URLs\n",
    "categorized = defaultdict(list)\n",
    "for url in urls:\n",
    "    category = categorize_image(url)\n",
    "    categorized[category].append(url)\n",
    "\n",
    "# Create output directory\n",
    "os.makedirs(output_dir, exist_ok=True)\n",
    "\n",
    "# Write a file per category\n",
    "for category, url_list in categorized.items():\n",
    "    filename = os.path.join(output_dir, f\"{category.replace(' ', '_').lower()}.txt\")\n",
    "    with open(filename, \"w\") as f:\n",
    "        for url in url_list:\n",
    "            f.write(f\"{url}\\n\")\n",
    "\n",
    "print(f\"Created {len(categorized)} files in '{output_dir}' with categorized URLs.\")\n"
   ]
  },
  {
   "cell_type": "code",
   "execution_count": null,
   "id": "a1db029c-0179-49cd-a798-73905d9a649e",
   "metadata": {},
   "outputs": [],
   "source": []
  }
 ],
 "metadata": {
  "kernelspec": {
   "display_name": "Python 3 (ipykernel)",
   "language": "python",
   "name": "python3"
  },
  "language_info": {
   "codemirror_mode": {
    "name": "ipython",
    "version": 3
   },
   "file_extension": ".py",
   "mimetype": "text/x-python",
   "name": "python",
   "nbconvert_exporter": "python",
   "pygments_lexer": "ipython3",
   "version": "3.12.8"
  }
 },
 "nbformat": 4,
 "nbformat_minor": 5
}
