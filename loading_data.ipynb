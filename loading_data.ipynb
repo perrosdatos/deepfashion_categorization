{
 "cells": [
  {
   "cell_type": "code",
   "execution_count": 1,
   "id": "e27f512e-edfc-4c7e-a814-99ed2cc93b38",
   "metadata": {},
   "outputs": [],
   "source": [
    "import pandas as pd\n",
    "dataframe = pd.read_csv(\"slowfashion_dataset/slowfashion_all_images.txt\", header=None)"
   ]
  },
  {
   "cell_type": "code",
   "execution_count": 2,
   "id": "04894692-1092-4168-998f-101861f9e115",
   "metadata": {},
   "outputs": [],
   "source": [
    "dataframe.columns = [\"path\"]"
   ]
  },
  {
   "cell_type": "code",
   "execution_count": 3,
   "id": "a3c1d2ea-f90b-4c45-96f5-e7fad59f0a8b",
   "metadata": {},
   "outputs": [],
   "source": [
    "paths_list = dataframe[\"path\"].to_list()"
   ]
  },
  {
   "cell_type": "code",
   "execution_count": 4,
   "id": "a7b52e9a-405a-478b-ba53-b0defe3e5c3d",
   "metadata": {},
   "outputs": [
    {
     "data": {
      "text/html": [
       "<div>\n",
       "<style scoped>\n",
       "    .dataframe tbody tr th:only-of-type {\n",
       "        vertical-align: middle;\n",
       "    }\n",
       "\n",
       "    .dataframe tbody tr th {\n",
       "        vertical-align: top;\n",
       "    }\n",
       "\n",
       "    .dataframe thead th {\n",
       "        text-align: right;\n",
       "    }\n",
       "</style>\n",
       "<table border=\"1\" class=\"dataframe\">\n",
       "  <thead>\n",
       "    <tr style=\"text-align: right;\">\n",
       "      <th></th>\n",
       "      <th>path</th>\n",
       "    </tr>\n",
       "  </thead>\n",
       "  <tbody>\n",
       "    <tr>\n",
       "      <th>0</th>\n",
       "      <td>FRONT:</td>\n",
       "    </tr>\n",
       "    <tr>\n",
       "      <th>536</th>\n",
       "      <td>BACK:</td>\n",
       "    </tr>\n",
       "    <tr>\n",
       "      <th>841</th>\n",
       "      <td>LABEL:</td>\n",
       "    </tr>\n",
       "    <tr>\n",
       "      <th>1146</th>\n",
       "      <td>FIRST DETAIL:</td>\n",
       "    </tr>\n",
       "    <tr>\n",
       "      <th>1431</th>\n",
       "      <td>SECOND DETAIL:</td>\n",
       "    </tr>\n",
       "    <tr>\n",
       "      <th>1639</th>\n",
       "      <td>OTHER:</td>\n",
       "    </tr>\n",
       "  </tbody>\n",
       "</table>\n",
       "</div>"
      ],
      "text/plain": [
       "                path\n",
       "0             FRONT:\n",
       "536            BACK:\n",
       "841           LABEL:\n",
       "1146   FIRST DETAIL:\n",
       "1431  SECOND DETAIL:\n",
       "1639          OTHER:"
      ]
     },
     "execution_count": 4,
     "metadata": {},
     "output_type": "execute_result"
    }
   ],
   "source": [
    "dataframe[~dataframe[\"path\"].str.contains(\"http\")]"
   ]
  },
  {
   "cell_type": "code",
   "execution_count": 5,
   "id": "c99278de-e8a7-4ce2-8f55-5ef9fdd64e57",
   "metadata": {},
   "outputs": [],
   "source": [
    "dictionary_elements = {}\n",
    "current_key=\"\"\n",
    "for path in paths_list:\n",
    "    if \"http\" not in path:\n",
    "        current_key = path.replace(\":\",\"\")\n",
    "        dictionary_elements[current_key] = []\n",
    "    else:\n",
    "        dictionary_elements[current_key].append(path)"
   ]
  },
  {
   "cell_type": "code",
   "execution_count": 6,
   "id": "51f8124a-c063-4a00-ab59-251148c31c45",
   "metadata": {},
   "outputs": [],
   "source": [
    "#dictionary_elements"
   ]
  },
  {
   "cell_type": "code",
   "execution_count": 7,
   "id": "2092d96e-3b5d-40bf-9471-59d2c12ba464",
   "metadata": {},
   "outputs": [
    {
     "name": "stderr",
     "output_type": "stream",
     "text": [
      "/home/carlos/miniconda3/envs/deeplearning_kernel/lib/python3.10/site-packages/requests/__init__.py:86: RequestsDependencyWarning: Unable to find acceptable character detection dependency (chardet or charset_normalizer).\n",
      "  warnings.warn(\n"
     ]
    }
   ],
   "source": [
    "import os\n",
    "import requests\n",
    "import time\n",
    "from typing import Dict, List, Tuple\n",
    "from tqdm import tqdm\n",
    "from urllib.parse import urlparse\n",
    "\n",
    "def download_images_to_folders(\n",
    "    folder_dict: Dict[str, List[str]],\n",
    "    parent_folder: str\n",
    ") -> Tuple[List[Tuple[str, str, str]], List[str]]:\n",
    "    \"\"\"\n",
    "    Downloads images from a dictionary mapping folder names to lists of image URLs.\n",
    "\n",
    "    Args:\n",
    "        folder_dict: Dict where keys are folder names, and values are lists of image URLs.\n",
    "        parent_folder: The base path where the folders should be created/downloaded to.\n",
    "\n",
    "    Returns:\n",
    "        A tuple:\n",
    "            - List of (folder_name, image_url, error_message) for failed downloads.\n",
    "            - List of full paths to successfully downloaded images.\n",
    "    \"\"\"\n",
    "    error_list = []\n",
    "    downloaded_paths = []\n",
    "\n",
    "    for folder_name, url_list in folder_dict.items():\n",
    "        print(f\"\\n Downloading images into folder: {folder_name}\")\n",
    "        folder_path = os.path.join(parent_folder, folder_name)\n",
    "        os.makedirs(folder_path, exist_ok=True)\n",
    "\n",
    "        for url in tqdm(url_list, desc=f\"Processing {folder_name}\", unit=\"img\"):\n",
    "            try:\n",
    "                file_name = os.path.basename(urlparse(url).path)\n",
    "                file_path = os.path.join(folder_path, file_name)\n",
    "\n",
    "                response = requests.get(url, timeout=10)\n",
    "                response.raise_for_status()\n",
    "\n",
    "                with open(file_path, 'wb') as f:\n",
    "                    f.write(response.content)\n",
    "\n",
    "                downloaded_paths.append(file_path)\n",
    "                time.sleep(0.5)\n",
    "\n",
    "            except Exception as e:\n",
    "                error_list.append((folder_name, url, str(e)))\n",
    "\n",
    "    return error_list, downloaded_paths\n"
   ]
  },
  {
   "cell_type": "code",
   "execution_count": 9,
   "id": "48e6b899-0dbf-4601-8de3-4d2f3cfdbe44",
   "metadata": {},
   "outputs": [
    {
     "name": "stdout",
     "output_type": "stream",
     "text": [
      "\n",
      " Downloading images into folder: FRONT\n"
     ]
    },
    {
     "name": "stderr",
     "output_type": "stream",
     "text": [
      "Processing FRONT: 100%|██████████████████████████████████████████████████████████████| 535/535 [06:01<00:00,  1.48img/s]\n"
     ]
    },
    {
     "name": "stdout",
     "output_type": "stream",
     "text": [
      "\n",
      " Downloading images into folder: BACK\n"
     ]
    },
    {
     "name": "stderr",
     "output_type": "stream",
     "text": [
      "Processing BACK: 100%|███████████████████████████████████████████████████████████████| 304/304 [03:26<00:00,  1.47img/s]\n"
     ]
    },
    {
     "name": "stdout",
     "output_type": "stream",
     "text": [
      "\n",
      " Downloading images into folder: LABEL\n"
     ]
    },
    {
     "name": "stderr",
     "output_type": "stream",
     "text": [
      "Processing LABEL: 100%|██████████████████████████████████████████████████████████████| 304/304 [03:31<00:00,  1.44img/s]\n"
     ]
    },
    {
     "name": "stdout",
     "output_type": "stream",
     "text": [
      "\n",
      " Downloading images into folder: FIRST DETAIL\n"
     ]
    },
    {
     "name": "stderr",
     "output_type": "stream",
     "text": [
      "Processing FIRST DETAIL: 100%|███████████████████████████████████████████████████████| 284/284 [03:17<00:00,  1.44img/s]\n"
     ]
    },
    {
     "name": "stdout",
     "output_type": "stream",
     "text": [
      "\n",
      " Downloading images into folder: SECOND DETAIL\n"
     ]
    },
    {
     "name": "stderr",
     "output_type": "stream",
     "text": [
      "Processing SECOND DETAIL: 100%|██████████████████████████████████████████████████████| 207/207 [02:24<00:00,  1.43img/s]\n"
     ]
    },
    {
     "name": "stdout",
     "output_type": "stream",
     "text": [
      "\n",
      " Downloading images into folder: OTHER\n"
     ]
    },
    {
     "name": "stderr",
     "output_type": "stream",
     "text": [
      "Processing OTHER: 100%|████████████████████████████████████████████████████████████| 1374/1374 [15:51<00:00,  1.44img/s]\n"
     ]
    }
   ],
   "source": [
    "errors, downloaded = download_images_to_folders(dictionary_elements, parent_folder=\"../slowfashion/\")"
   ]
  },
  {
   "cell_type": "code",
   "execution_count": 13,
   "id": "78cb3eb3-75f6-46f4-a293-89a6332b6d31",
   "metadata": {},
   "outputs": [],
   "source": [
    "results_dataframe = pd.DataFrame(downloaded)\n",
    "results_dataframe.columns = [\"path\"]"
   ]
  },
  {
   "cell_type": "code",
   "execution_count": 15,
   "id": "a321e764-f711-4b97-af95-9f5324bd17b5",
   "metadata": {},
   "outputs": [],
   "source": [
    "results_dataframe[\"type\"] = results_dataframe[\"path\"].apply(lambda item: item.split(\"/\")[2])"
   ]
  },
  {
   "cell_type": "code",
   "execution_count": 17,
   "id": "3f07265f-e7d2-4a34-ba33-a4895a94a848",
   "metadata": {},
   "outputs": [],
   "source": [
    "results_dataframe[[\"type\",\"path\"]].to_csv(\"../slowfashion/information.csv\", index=False)"
   ]
  }
 ],
 "metadata": {
  "kernelspec": {
   "display_name": "Python 3 (ipykernel)",
   "language": "python",
   "name": "python3"
  },
  "language_info": {
   "codemirror_mode": {
    "name": "ipython",
    "version": 3
   },
   "file_extension": ".py",
   "mimetype": "text/x-python",
   "name": "python",
   "nbconvert_exporter": "python",
   "pygments_lexer": "ipython3",
   "version": "3.10.16"
  }
 },
 "nbformat": 4,
 "nbformat_minor": 5
}
